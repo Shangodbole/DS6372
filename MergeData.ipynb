{
 "cells": [
  {
   "cell_type": "code",
   "execution_count": 183,
   "metadata": {},
   "outputs": [],
   "source": [
    "import pandas as pd\n",
    "import numpy as np\n",
    "import matplotlib as plt\n",
    "import warnings\n",
    "%matplotlib inline"
   ]
  },
  {
   "cell_type": "markdown",
   "metadata": {},
   "source": [
    "## Read in the data"
   ]
  },
  {
   "cell_type": "code",
   "execution_count": 184,
   "metadata": {},
   "outputs": [],
   "source": [
    "bombing = pd.read_csv(\"WW2_Bombing_Data.csv\")\n",
    "weather = pd.read_csv(\"SummaryOfWeather.csv\")\n",
    "stations = pd.read_csv(\"WeatherStationsGermany.csv\")"
   ]
  },
  {
   "cell_type": "markdown",
   "metadata": {},
   "source": [
    "#### Merging data sets\n",
    "We need to determine which weather stations were in the vicinity of a given bombing mission to extract what the weather was like at that station.  To do this, we'll consider that latitude and longitude at which the attack took place, and then create a region around that location representing what the weather was like there.\n",
    "\n",
    "At first glance, it makes sense to consider the range that the aircraft can see to the horizon.  The formula for distance in miles is 1.22 times the square root of the height (in feet) of the aircraft.\n",
    "\n",
    "\\begin{equation}\n",
    "Distance_{Horizon}(Miles) = 1.22\\times\\sqrt{Height(Feet)}\n",
    "\\end{equation}\n",
    "\n",
    "WW2 bombing aircraft generally flew at an altitude of 10,000 feet when delivering their payload.  Using 10,000 feet for height, we see that aircraft can see approximately 122 miles to the horizon in all directions.\n",
    "\n",
    "Each degree of lattitude is approximately 69 miles.  Therefore it's safe to say that the weather will likely be unchanged in a 1 degree lattitude diameter (69 miles)."
   ]
  },
  {
   "cell_type": "code",
   "execution_count": 188,
   "metadata": {},
   "outputs": [],
   "source": [
    "# Define a function that will list all station IDs within a 1 degree wide box centered around the attack\n",
    "def FindStations(Latitude, Longitude):\n",
    "    nearby_stations = stations[(Latitude+0.5 >= stations[\"Latitude\"]) & (Latitude-0.5 <= stations[\"Latitude\"]) &\n",
    "                              (Longitude+0.5 >= stations[\"Longitude\"]) & (Longitude-0.5 <= stations[\"Longitude\"])]\n",
    "    return(list(nearby_stations[\"StationID\"]))"
   ]
  },
  {
   "cell_type": "code",
   "execution_count": 189,
   "metadata": {},
   "outputs": [],
   "source": [
    "# Suppress warnings because they're annoying.\n",
    "warnings.simplefilter(action=\"ignore\")"
   ]
  },
  {
   "cell_type": "code",
   "execution_count": 190,
   "metadata": {
    "scrolled": true
   },
   "outputs": [],
   "source": [
    "bombing_stations = bombing[bombing[\"DefCountry\"] == \"Germany\"]  # Only look at bombings in Germany\n",
    "bombing_stations.drop([\"Details\"], axis=1, inplace = True)  # We don't need the Details column, so drop it.\n",
    "bombing_stations[\"StationIDs\"] = \"\"  # This is just a place holder so the next line will work\n",
    "# Iterate through each row, and pass the lat and long into the FindStations function\n",
    "for index, row in bombing_stations.iterrows():\n",
    "    bombing_stations.at[index, \"StationIDs\"]= FindStations(float(row[\"Latitude\"]), float(row[\"Longitude\"]))"
   ]
  }
 ],
 "metadata": {
  "kernelspec": {
   "display_name": "Python 3",
   "language": "python",
   "name": "python3"
  },
  "language_info": {
   "codemirror_mode": {
    "name": "ipython",
    "version": 3
   },
   "file_extension": ".py",
   "mimetype": "text/x-python",
   "name": "python",
   "nbconvert_exporter": "python",
   "pygments_lexer": "ipython3",
   "version": "3.6.2"
  }
 },
 "nbformat": 4,
 "nbformat_minor": 2
}
