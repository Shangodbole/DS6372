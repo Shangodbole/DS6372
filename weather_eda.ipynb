{
 "cells": [
  {
   "cell_type": "code",
   "execution_count": 1,
   "metadata": {
    "ExecuteTime": {
     "end_time": "2019-01-30T22:09:18.415714Z",
     "start_time": "2019-01-30T22:09:17.777035Z"
    }
   },
   "outputs": [],
   "source": [
    "import pandas as pd\n",
    "import numpy as np"
   ]
  },
  {
   "cell_type": "markdown",
   "metadata": {},
   "source": [
    "# EDA\n",
    "## Data Import"
   ]
  },
  {
   "cell_type": "code",
   "execution_count": 3,
   "metadata": {
    "ExecuteTime": {
     "end_time": "2019-01-30T22:11:02.048396Z",
     "start_time": "2019-01-30T22:11:01.654650Z"
    }
   },
   "outputs": [],
   "source": [
    "weather = pd.read_csv('data/SummaryOfWeather.csv', low_memory=False)"
   ]
  },
  {
   "cell_type": "code",
   "execution_count": 8,
   "metadata": {
    "ExecuteTime": {
     "end_time": "2019-01-30T22:13:53.579047Z",
     "start_time": "2019-01-30T22:13:53.575317Z"
    }
   },
   "outputs": [
    {
     "data": {
      "text/plain": [
       "(119040, 31)"
      ]
     },
     "execution_count": 8,
     "metadata": {},
     "output_type": "execute_result"
    }
   ],
   "source": [
    "## Get the number of columns and rows\n",
    "weather.shape"
   ]
  },
  {
   "cell_type": "markdown",
   "metadata": {
    "ExecuteTime": {
     "end_time": "2019-01-30T22:22:03.341367Z",
     "start_time": "2019-01-30T22:22:03.338901Z"
    }
   },
   "source": [
    "## Decisions\n",
    "### Null Data\n",
    "\n",
    "There are a total of 119,040 observations. \n",
    "- **STA** - Weather Station\n",
    "- **Date** - Self-explanatory\n",
    "- **Precip** - Precipitation in mm\n",
    "- **WindGustSpd** - Peak wind gust speed in km/h \n",
    "    - **(118,508)**\n",
    "    - Keep windgust speeds for now but leave out of model\n",
    "    - Set null values to 0 for now. \n",
    "- **MaxTemp** - Maximum temperature in degrees Celsius\n",
    "- **MinTemp** - Minimum temperature in degrees Celsius\n",
    "- **MeanTemp** - Mean temperature in degrees Celsius\n",
    "- **Snowfall** - Snowfall and Ice Pellets in mm \n",
    "    - **(1163)**\n",
    "    - Keep snowfall\n",
    "- **PoorWeather** -A repeat of the TSHDSBRSGF column \n",
    "    - **(84803)**\n",
    "    - Keep PoorWeather and add ass a factor\n",
    "    - 1 = Yes, 0 = Unknown\n",
    "    - Determine if we can find this data or derive it based on temperature and precipitation\n",
    "- **YR** - Year of Observation\n",
    "- **MO** - Month of Observation\n",
    "- **DA** - Day of Observation\n",
    "- **PRCP** - Precipitation in Inches and Hundredths \n",
    "    - **(1932)**\n",
    "    - Keep and use to determine weather conditions\n",
    "-  **DR** - Peak wind gust direction in tens of degrees \n",
    "    - **(118507)**\n",
    "    - Set null values to 0 for now\n",
    "- **SPD** - Peak wind gust speed in knots \n",
    "    - **(118508)**\n",
    "    - Set null values to 0 for now\n",
    "- **MAX** - Maximum temperature in degrees Fahrenheit \n",
    "    - **(474)**\n",
    "    - See what days are missing and see if they correlate to MIN, MAX. Also determine if important missions happended during this time. \n",
    "- **MIN** - Minimum temperature in degrees Fahrenheit \n",
    "    - **(468)** \n",
    "    - Same as max\n",
    "- **MEA** - Mean temperature in degrees Fahrenheit \n",
    "    - **(498)** \n",
    "    - Same as Max\n",
    "- **SNF** - Snowfall in inches and tenths \n",
    "    - **(1163)**\n",
    "    - Set unknown to 0 for now\n",
    "- **SND** - Snow depth (includes ice pellets) recorded at 1200 GMT except 0000 GMT in Far East Asian Area in inches and tenths \n",
    "    - **(113477)**\n",
    "    - Set nulls to zero\n",
    "- **FTFrozen** - Ground Top (depth in inches) \n",
    "    - **(119040)**\n",
    "    - Delete for now unless we can find the data\n",
    "- **FBFrozen** - Ground Base (depth in inches) \n",
    "    - **(119040)**\n",
    "    - Delete for now unless we can find the data\n",
    "- **FTIFrozen** - Ground Thickness (thickness in inches) \n",
    "    - **(119040)**\n",
    "    - Delete for now unless we can find the data\n",
    "- **ITHIce** - Thickness on Water (inches and tenths) \n",
    "    - **(119040)**\n",
    "    - Delete for now unless we can find the data\n",
    "- **PGTPeak** wind gust time (hours and tenths) \n",
    "    - **(118515)**\n",
    "    - Set null values to 0 for now\n",
    "- **TSHDSBRSGFDay** with: Thunder; Sleet; Hail; Dust or Sand; Smoke or Haze; Blowing Snow; Rain; Snow; Glaze; Fog; 0 = No, 1 = Yes \n",
    "    - **(84803)**\n",
    "- **SD3Snow** depth at 0030 GMT includes ice pellets in inches and tenths\n",
    "    - **(119040)**\n",
    "    - Delete for now unless we can find the data\n",
    "- **RHX24-hour** maximum relative humidity, as a whole percent \n",
    "    - **(119040)**\n",
    "    - Delete for now unless we can find the data\n",
    "- **RHN24-hour** minimum relative humidity, as a whole percent \n",
    "    - **(119040)**\n",
    "    - Delete for now unless we can find the data\n",
    "- **RVGRiver** guage in feet and tenths \n",
    "    - **(119040)**\n",
    "    - Delete for now unless we can find the data\n",
    "- **WTEWater** equivalent of snow and ice on ground in inches and hundredths \n",
    "    - **(119040)**\n",
    "    - Delete for now unless we can find the data\n",
    "    "
   ]
  },
  {
   "cell_type": "code",
   "execution_count": 6,
   "metadata": {
    "ExecuteTime": {
     "end_time": "2019-01-30T22:13:41.606275Z",
     "start_time": "2019-01-30T22:13:41.493114Z"
    }
   },
   "outputs": [
    {
     "data": {
      "text/plain": [
       "STA                 0\n",
       "Date                0\n",
       "Precip              0\n",
       "WindGustSpd    118508\n",
       "MaxTemp             0\n",
       "MinTemp             0\n",
       "MeanTemp            0\n",
       "Snowfall         1163\n",
       "PoorWeather     84803\n",
       "YR                  0\n",
       "MO                  0\n",
       "DA                  0\n",
       "PRCP             1932\n",
       "DR             118507\n",
       "SPD            118508\n",
       "MAX               474\n",
       "MIN               468\n",
       "MEA               498\n",
       "SNF              1163\n",
       "SND            113477\n",
       "FT             119040\n",
       "FB             119040\n",
       "FTI            119040\n",
       "ITH            119040\n",
       "PGT            118515\n",
       "TSHDSBRSGF      84803\n",
       "SD3            119040\n",
       "RHX            119040\n",
       "RHN            119040\n",
       "RVG            119040\n",
       "WTE            119040\n",
       "dtype: int64"
      ]
     },
     "execution_count": 6,
     "metadata": {},
     "output_type": "execute_result"
    }
   ],
   "source": [
    "### How many null columns\n",
    "weather.isnull().sum()"
   ]
  },
  {
   "cell_type": "code",
   "execution_count": null,
   "metadata": {},
   "outputs": [],
   "source": []
  }
 ],
 "metadata": {
  "kernelspec": {
   "display_name": "Python 3",
   "language": "python",
   "name": "python3"
  },
  "language_info": {
   "codemirror_mode": {
    "name": "ipython",
    "version": 3
   },
   "file_extension": ".py",
   "mimetype": "text/x-python",
   "name": "python",
   "nbconvert_exporter": "python",
   "pygments_lexer": "ipython3",
   "version": "3.6.6"
  },
  "toc": {
   "base_numbering": 1,
   "nav_menu": {},
   "number_sections": true,
   "sideBar": true,
   "skip_h1_title": false,
   "title_cell": "Table of Contents",
   "title_sidebar": "Contents",
   "toc_cell": false,
   "toc_position": {},
   "toc_section_display": true,
   "toc_window_display": true
  }
 },
 "nbformat": 4,
 "nbformat_minor": 2
}
